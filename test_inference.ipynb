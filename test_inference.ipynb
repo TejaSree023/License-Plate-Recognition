{
 "cells": [
  {
   "cell_type": "code",
   "execution_count": null,
   "id": "573f361b",
   "metadata": {},
   "outputs": [],
   "source": [
    "import os, cv2, numpy as np, pandas as pd, matplotlib.pyplot as plt, tensorflow as tf\n",
    "from tensorflow.keras.models import load_model\n",
    "from tensorflow.keras import backend as K\n",
    "from datetime import datetime"
   ]
  },
  {
   "cell_type": "code",
   "execution_count": null,
   "id": "5d45820c",
   "metadata": {},
   "outputs": [],
   "source": [
    "# ───────── SETTINGS ─────────\n",
    "IMG_HEIGHT, IMG_WIDTH = 50, 200\n",
    "DETECT_SIZE = 224\n",
    "CHARS = \"ABCDEFGHIJKLMNOPQRSTUVWXYZ0123456789\"\n",
    "CHAR_TO_IDX = {c: i + 1 for i, c in enumerate(CHARS)}\n",
    "IDX_TO_CHAR = {0: ''}\n",
    "IDX_TO_CHAR.update({i + 1: c for i, c in enumerate(CHARS)})"
   ]
  },
  {
   "cell_type": "code",
   "execution_count": null,
   "id": "1ad184c6",
   "metadata": {},
   "outputs": [],
   "source": [
    "TEST_DIR = r\"C:\\Users\\tejas\\Downloads\\archive (1)\\test\\test\\test\"\n",
    "TS = datetime.now().strftime(\"%Y%m%d_%H%M%S\")\n",
    "SUBMIT_CSV = f\"SampleSubmission_{TS}.csv\""
   ]
  },
  {
   "cell_type": "code",
   "execution_count": null,
   "id": "9ac3a884",
   "metadata": {},
   "outputs": [],
   "source": [
    "# Debugging toggles\n",
    "N_DEBUG = 10\n",
    "VISUALIZE = True\n",
    "FALLBACK_CROP = True\n",
    "STRICT_CROP_REGION = False   # <- Try this if detector fails consistently"
   ]
  },
  {
   "cell_type": "code",
   "execution_count": null,
   "id": "0094848e",
   "metadata": {
    "lines_to_next_cell": 1
   },
   "outputs": [],
   "source": [
    "# ───────── LOAD MODELS ─────────\n",
    "detector = load_model(\"license_plate_detector.keras\")\n",
    "ocr_model = load_model(\"predict_crnn_model.keras\")"
   ]
  },
  {
   "cell_type": "code",
   "execution_count": null,
   "id": "d0f1da48",
   "metadata": {
    "lines_to_next_cell": 1
   },
   "outputs": [],
   "source": [
    "# ───────── HELPERS ─────────\n",
    "def decode_ctc(preds, greedy=False):\n",
    "    dec, _ = K.ctc_decode(\n",
    "        preds,\n",
    "        input_length=np.ones(preds.shape[0]) * preds.shape[1],\n",
    "        greedy=greedy,\n",
    "        beam_width=10,\n",
    "    )\n",
    "    return [\"\".join(IDX_TO_CHAR.get(i, '') for i in seq if i > 0) for seq in dec[0].numpy()]"
   ]
  },
  {
   "cell_type": "code",
   "execution_count": null,
   "id": "0c0dceb1",
   "metadata": {
    "lines_to_next_cell": 1
   },
   "outputs": [],
   "source": [
    "def show(image, title=\"\"):\n",
    "    plt.imshow(cv2.cvtColor(image, cv2.COLOR_BGR2RGB))\n",
    "    plt.title(title)\n",
    "    plt.axis(\"off\")\n",
    "    plt.show()"
   ]
  },
  {
   "cell_type": "code",
   "execution_count": null,
   "id": "c6d74a57",
   "metadata": {},
   "outputs": [],
   "source": [
    "# ───────── MAIN LOOP ─────────\n",
    "print(\"Processing test images …\")\n",
    "files = sorted(\n",
    "    [f for f in os.listdir(TEST_DIR) if f.lower().endswith(('.jpg', '.png'))],\n",
    "    key=lambda x: int(\"\".join(filter(str.isdigit, x)) or 0)\n",
    ")\n",
    "print(\"Total images:\", len(files))"
   ]
  },
  {
   "cell_type": "code",
   "execution_count": null,
   "id": "37d1f535",
   "metadata": {},
   "outputs": [],
   "source": [
    "results = []\n",
    "warn_ocr = 0\n",
    "warn_detect = 0"
   ]
  },
  {
   "cell_type": "code",
   "execution_count": null,
   "id": "9e427626",
   "metadata": {},
   "outputs": [],
   "source": [
    "for idx, fname in enumerate(files):\n",
    "    path = os.path.join(TEST_DIR, fname)\n",
    "    img = cv2.imread(path)\n",
    "    if img is None:\n",
    "        print(f\"[WARN] Could not read {fname}\")\n",
    "        results.append([fname, \"\"])\n",
    "        continue\n",
    "\n",
    "    h, w = img.shape[:2]\n",
    "\n",
    "    # DETECT BOX\n",
    "    inp = cv2.resize(img, (DETECT_SIZE, DETECT_SIZE)).astype(\"float32\") / 255.0\n",
    "    y1, x1, y2, x2 = detector.predict(inp[None])[0]\n",
    "\n",
    "    if idx < N_DEBUG:\n",
    "        print(f\"[DEBUG] {fname} | img={h}x{w} | box={[round(v, 3) for v in (y1,x1,y2,x2)]}\")\n",
    "\n",
    "    # scale bbox\n",
    "    ymin, ymax = int(y1 * h), int(y2 * h)\n",
    "    xmin, xmax = int(x1 * w), int(x2 * w)\n",
    "\n",
    "    crop = img[ymin:ymax, xmin:xmax]\n",
    "\n",
    "    # Fallback: use center crop or hardcoded region if detector fails\n",
    "    if crop.size == 0:\n",
    "        warn_detect += 1\n",
    "        if STRICT_CROP_REGION:\n",
    "            ymin, ymax = int(h * 0.6), int(h * 0.75)\n",
    "            xmin, xmax = int(w * 0.3), int(w * 0.7)\n",
    "        else:\n",
    "            cy, cx = h // 2, w // 2\n",
    "            ymin, ymax = cy - 25, cy + 25\n",
    "            xmin, xmax = cx - 100, cx + 100\n",
    "        crop = img[max(0, ymin):min(h, ymax), max(0, xmin):min(w, xmax)]\n",
    "\n",
    "    if crop.size == 0:\n",
    "        print(f\"[WARN] No crop for {fname}\")\n",
    "        results.append([fname, \"\"])\n",
    "        continue\n",
    "\n",
    "    # OCR\n",
    "    gray = cv2.cvtColor(crop, cv2.COLOR_BGR2GRAY)\n",
    "    gray = cv2.resize(gray, (IMG_WIDTH, IMG_HEIGHT)).astype(\"float32\") / 255.0\n",
    "    preds = ocr_model.predict(gray[None, ..., None])\n",
    "    text = decode_ctc(preds)[0] or decode_ctc(preds, greedy=True)[0]\n",
    "\n",
    "    if text == \"\":\n",
    "        warn_ocr += 1\n",
    "\n",
    "    results.append([fname, text])\n",
    "\n",
    "    # VISUALIZATION\n",
    "    if VISUALIZE and idx < 5:\n",
    "        vis = img.copy()\n",
    "        cv2.rectangle(vis, (xmin, ymin), (xmax, ymax), (0, 255, 0), 2)\n",
    "        cv2.putText(vis, text or \"(empty)\", (xmin, max(0, ymin - 10)),\n",
    "                    cv2.FONT_HERSHEY_SIMPLEX, 0.8, (0, 255, 0), 2)\n",
    "        show(vis, f\"{fname} → {text}\")"
   ]
  },
  {
   "cell_type": "code",
   "execution_count": null,
   "id": "a65c29e8",
   "metadata": {},
   "outputs": [],
   "source": [
    "print(f\"\\n Detection fallback used on {warn_detect} / {len(files)}\")\n",
    "print(f\"  OCR failed (empty) on     {warn_ocr} / {len(files)}\")"
   ]
  },
  {
   "cell_type": "code",
   "execution_count": null,
   "id": "7233da39",
   "metadata": {},
   "outputs": [],
   "source": [
    "# ───────── SUBMISSION CSV ─────────\n",
    "rows = []\n",
    "print(\"\\n[CSV ROWS]\")\n",
    "for fname, txt in results:\n",
    "    digits = {int(d) for d in txt if d.isdigit()}\n",
    "    row = [os.path.splitext(fname)[0] + \"_1\"] + [1 if d in digits else 0 for d in range(10)]\n",
    "    print(f\"{fname:<12}  text='{txt}'  digits={sorted(digits)}  →  {row}\")\n",
    "    rows.append(row)"
   ]
  },
  {
   "cell_type": "code",
   "execution_count": null,
   "id": "b18dbe59",
   "metadata": {},
   "outputs": [],
   "source": [
    "cols = [\"id\"] + [str(i) for i in range(10)]\n",
    "pd.DataFrame(rows, columns=cols).to_csv(SUBMIT_CSV, index=False)\n",
    "print(\"\\n Submission saved to:\", SUBMIT_CSV)"
   ]
  }
 ],
 "metadata": {
  "jupytext": {
   "cell_metadata_filter": "-all",
   "main_language": "python",
   "notebook_metadata_filter": "-all"
  }
 },
 "nbformat": 4,
 "nbformat_minor": 5
}
