{
 "cells": [
  {
   "cell_type": "code",
   "execution_count": null,
   "id": "10638101",
   "metadata": {},
   "outputs": [],
   "source": [
    "import os\n",
    "import cv2\n",
    "import numpy as np\n",
    "import pandas as pd\n",
    "import tensorflow as tf\n",
    "from tensorflow.keras import layers, models\n",
    "from sklearn.model_selection import train_test_split"
   ]
  },
  {
   "cell_type": "code",
   "execution_count": null,
   "id": "87ab1705",
   "metadata": {
    "lines_to_next_cell": 2
   },
   "outputs": [],
   "source": [
    "# ───────── CONFIG ─────────\n",
    "IMG_HEIGHT, IMG_WIDTH = 224, 224\n",
    "CSV_PATH = r\"C:\\Users\\tejas\\Downloads\\archive (1)\\Licplatesdetection_train.csv\"\n",
    "IMAGE_DIR = r\"C:\\Users\\tejas\\Downloads\\archive (1)\\Licplatesrecognition_train\\license_plates_recognition_train\""
   ]
  },
  {
   "cell_type": "code",
   "execution_count": null,
   "id": "1067b014",
   "metadata": {},
   "outputs": [],
   "source": [
    "# ───────── LOAD DATA ─────────\n",
    "print(\"Loading detection dataset …\")\n",
    "df = pd.read_csv(CSV_PATH)"
   ]
  },
  {
   "cell_type": "code",
   "execution_count": null,
   "id": "9b34a0eb",
   "metadata": {},
   "outputs": [],
   "source": [
    "images, boxes = [], []\n",
    "for _, row in df.iterrows():\n",
    "    img_path = os.path.join(IMAGE_DIR, row[\"img_id\"])\n",
    "    img = cv2.imread(img_path)\n",
    "    if img is None:\n",
    "        continue\n",
    "    h, w = img.shape[:2]\n",
    "\n",
    "    # Resize image and normalize bbox\n",
    "    img_resized = cv2.resize(img, (IMG_WIDTH, IMG_HEIGHT))\n",
    "    img_resized = img_resized.astype(\"float32\") / 255.0\n",
    "\n",
    "    ymin = row[\"ymin\"] / h\n",
    "    xmin = row[\"xmin\"] / w\n",
    "    ymax = row[\"ymax\"] / h\n",
    "    xmax = row[\"xmax\"] / w\n",
    "\n",
    "    images.append(img_resized)\n",
    "    boxes.append([ymin, xmin, ymax, xmax])"
   ]
  },
  {
   "cell_type": "code",
   "execution_count": null,
   "id": "3a649c87",
   "metadata": {
    "lines_to_next_cell": 1
   },
   "outputs": [],
   "source": [
    "X = np.array(images, dtype=\"float32\")\n",
    "y = np.array(boxes, dtype=\"float32\")\n",
    "print(\"Shape:\", X.shape, y.shape)"
   ]
  },
  {
   "cell_type": "code",
   "execution_count": null,
   "id": "b1a9273b",
   "metadata": {
    "lines_to_next_cell": 1
   },
   "outputs": [],
   "source": [
    "# ───────── MODEL ─────────\n",
    "def build_detector_model():\n",
    "    base = tf.keras.applications.MobileNetV2(input_shape=(IMG_HEIGHT, IMG_WIDTH, 3),\n",
    "                                              include_top=False, weights='imagenet', pooling='avg')\n",
    "    x = layers.Dense(128, activation=\"relu\")(base.output)\n",
    "    x = layers.Dense(64, activation=\"relu\")(x)\n",
    "    out = layers.Dense(4, activation=\"sigmoid\")(x)  # 4 coords: ymin, xmin, ymax, xmax\n",
    "    return models.Model(inputs=base.input, outputs=out)"
   ]
  },
  {
   "cell_type": "code",
   "execution_count": null,
   "id": "0479dcd3",
   "metadata": {},
   "outputs": [],
   "source": [
    "model = build_detector_model()\n",
    "model.compile(optimizer=\"adam\", loss=\"mse\", metrics=[\"mae\"])\n",
    "model.summary()"
   ]
  },
  {
   "cell_type": "code",
   "execution_count": null,
   "id": "b2562b62",
   "metadata": {},
   "outputs": [],
   "source": [
    "# ───────── TRAINING ─────────\n",
    "X_tr, X_val, y_tr, y_val = train_test_split(X, y, test_size=0.2, random_state=42)\n",
    "model.fit(X_tr, y_tr, validation_data=(X_val, y_val), epochs=20, batch_size=32)"
   ]
  },
  {
   "cell_type": "code",
   "execution_count": null,
   "id": "9c40bb91",
   "metadata": {},
   "outputs": [],
   "source": [
    "# ───────── SAVE MODEL ─────────\n",
    "model.save(\"license_plate_detector.keras\")\n",
    "print(\"[ok] Detection model saved as license_plate_detector.keras\")"
   ]
  }
 ],
 "metadata": {
  "jupytext": {
   "cell_metadata_filter": "-all",
   "main_language": "python",
   "notebook_metadata_filter": "-all"
  }
 },
 "nbformat": 4,
 "nbformat_minor": 5
}
